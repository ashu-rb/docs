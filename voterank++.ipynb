{
  "nbformat": 4,
  "nbformat_minor": 0,
  "metadata": {
    "colab": {
      "provenance": [],
      "authorship_tag": "ABX9TyNgyfVqNsmV28ApiE77O5OH",
      "include_colab_link": true
    },
    "kernelspec": {
      "name": "python3",
      "display_name": "Python 3"
    },
    "language_info": {
      "name": "python"
    }
  },
  "cells": [
    {
      "cell_type": "markdown",
      "metadata": {
        "id": "view-in-github",
        "colab_type": "text"
      },
      "source": [
        "<a href=\"https://colab.research.google.com/github/ashu-rb/docs/blob/main/voterank%2B%2B.ipynb\" target=\"_parent\"><img src=\"https://colab.research.google.com/assets/colab-badge.svg\" alt=\"Open In Colab\"/></a>"
      ]
    },
    {
      "cell_type": "code",
      "execution_count": 1,
      "metadata": {
        "id": "N8taQXg1yMsQ"
      },
      "outputs": [],
      "source": [
        "import math\n",
        "\n",
        "def vote_rank_plus_plus(G, l, lambda_value):\n",
        "    S = set()\n",
        "    nodes = list(G.nodes())\n",
        "    kmax = max([G.degree(node) for node in nodes])\n",
        "    \n",
        "    for v in nodes:\n",
        "        kv = G.degree(v)\n",
        "        vav = math.log(1 + kv/kmax)\n",
        "        sigma = 0\n",
        "        \n",
        "        for u in G.neighbors(v):\n",
        "            VPuv = sum([G.degree(w) for w in G.neighbors(u)]) / G.degree(u)\n",
        "            sigma += vav * VPuv\n",
        "            \n",
        "        vsv = len(v) * sigma\n",
        "        S.add((v, vsv))\n",
        "    \n",
        "    while len(S) < l:\n",
        "        v, _ = max(S, key=lambda x: x[1])\n",
        "        S.remove((v, _))\n",
        "        \n",
        "        H = set([v])\n",
        "        for u in G.neighbors(v):\n",
        "            vau = lambda_value * G[u][v]['weight']\n",
        "            H.add(u)\n",
        "            \n",
        "            for w in G.neighbors(u):\n",
        "                if w != v:\n",
        "                    vaw = math.sqrt(lambda_value * G[u][w]['weight'])\n",
        "                    H.add(w)\n",
        "                    \n",
        "        sigma = 0\n",
        "        for v in H:\n",
        "            kv = G.degree(v)\n",
        "            vav = math.log(1 + kv/kmax)\n",
        "            \n",
        "            for u in G.neighbors(v):\n",
        "                VPuv = sum([G.degree(w) for w in G.neighbors(u)]) / G.degree(u)\n",
        "                sigma += vav * VPuv\n",
        "            \n",
        "            vsv = len(v) * sigma\n",
        "            S.add((v, vsv))\n",
        "    \n",
        "    influential_nodes = sorted(list(S), key=lambda x: x[1], reverse=True)[:l]\n",
        "    return [node[0] for node in influential_nodes]\n"
      ]
    }
  ]
}